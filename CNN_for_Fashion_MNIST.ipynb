{
  "nbformat": 4,
  "nbformat_minor": 0,
  "metadata": {
    "colab": {
      "name": "CNN for Fashion MNIST.ipynb",
      "provenance": [],
      "collapsed_sections": [],
      "authorship_tag": "ABX9TyMEUgJeJYQGofIs8diYhzsO",
      "include_colab_link": true
    },
    "kernelspec": {
      "name": "python3",
      "display_name": "Python 3"
    }
  },
  "cells": [
    {
      "cell_type": "markdown",
      "metadata": {
        "id": "view-in-github",
        "colab_type": "text"
      },
      "source": [
        "<a href=\"https://colab.research.google.com/github/ArnelMalubay/Simple-CNN-for-Fashion-MNIST/blob/master/CNN_for_Fashion_MNIST.ipynb\" target=\"_parent\"><img src=\"https://colab.research.google.com/assets/colab-badge.svg\" alt=\"Open In Colab\"/></a>"
      ]
    },
    {
      "cell_type": "markdown",
      "metadata": {
        "id": "NqOkHImfj_PU",
        "colab_type": "text"
      },
      "source": [
        "# CNN for Fashion MNIST"
      ]
    },
    {
      "cell_type": "markdown",
      "metadata": {
        "id": "Vz7vCAEZmO84",
        "colab_type": "text"
      },
      "source": [
        "## Preprocessing"
      ]
    },
    {
      "cell_type": "markdown",
      "metadata": {
        "id": "OjQsirwRjZCr",
        "colab_type": "text"
      },
      "source": [
        "Hi! I'm a beginner in machine learning, and this is a simple project in tackling the Fashion MNIST classification task using tf.keras. We begin by importing the necessary libraries for this particular task."
      ]
    },
    {
      "cell_type": "code",
      "metadata": {
        "id": "uT2_M9Ujwy4F",
        "colab_type": "code",
        "colab": {}
      },
      "source": [
        "import numpy as np\n",
        "import pandas as pd\n",
        "import matplotlib.pyplot as plt\n",
        "import tensorflow as tf\n",
        "from tensorflow import keras"
      ],
      "execution_count": 0,
      "outputs": []
    },
    {
      "cell_type": "markdown",
      "metadata": {
        "id": "PnyWQTiVkITw",
        "colab_type": "text"
      },
      "source": [
        "We then load the dataset using keras.datasets. In this cell, we also perform most of the preprocessing needed, such as the scaling and reshaping of inputs, as well as the splitting of the data into train, test, and validation datasets."
      ]
    },
    {
      "cell_type": "code",
      "metadata": {
        "id": "ijcLOiXmxXii",
        "colab_type": "code",
        "colab": {}
      },
      "source": [
        "fashion_mnist = keras.datasets.fashion_mnist\n",
        "(train_images_orig, train_labels), (test_images_orig, test_labels) = fashion_mnist.load_data()\n",
        "train_images, test_images = train_images_orig / 255, test_images_orig / 255\n",
        "train_images = train_images.reshape(train_images.shape[0], train_images.shape[1], train_images.shape[2], 1)\n",
        "train_size = 90* train_images.shape[0] // 100\n",
        "train_images, valid_images, train_labels, valid_labels = train_images[:train_size], train_images[train_size:], train_labels[:train_size], train_labels[train_size:]\n"
      ],
      "execution_count": 0,
      "outputs": []
    },
    {
      "cell_type": "markdown",
      "metadata": {
        "id": "K-WdAi6skc4A",
        "colab_type": "text"
      },
      "source": [
        "Since this is a classification task, it is a good thing if we know what the labels in the dataset represent. This can be easily searched, as there is a lot of tutorials available that uses the Fashion MNIST dataset. For more information, check https://github.com/zalandoresearch/fashion-mnist."
      ]
    },
    {
      "cell_type": "code",
      "metadata": {
        "id": "7hznvXfDxb1P",
        "colab_type": "code",
        "colab": {}
      },
      "source": [
        "class_names = ['T-shirt/top', 'Trouser', 'Pullover', 'Dress', 'Coat','Sandal', 'Shirt', 'Sneaker', 'Bag', 'Ankle boot']"
      ],
      "execution_count": 0,
      "outputs": []
    },
    {
      "cell_type": "markdown",
      "metadata": {
        "id": "ezmmYTbdl4Fm",
        "colab_type": "text"
      },
      "source": [
        "The next two cells illustrate the use of tf.data to further process our datasets. We use tf.data to batch, shuffle and prefetch, making it more manageable for our model."
      ]
    },
    {
      "cell_type": "code",
      "metadata": {
        "id": "Eci9Dji0VwQK",
        "colab_type": "code",
        "colab": {}
      },
      "source": [
        "dataset = tf.data.Dataset.from_tensor_slices((train_images, train_labels))\n",
        "validation = tf.data.Dataset.from_tensor_slices((valid_images,valid_labels))"
      ],
      "execution_count": 0,
      "outputs": []
    },
    {
      "cell_type": "code",
      "metadata": {
        "id": "dHMv7NWfz4rI",
        "colab_type": "code",
        "colab": {}
      },
      "source": [
        "def preprocess(data, buffer_size = 10000, batch = 100, prefetch_buffer = 1, seed = 42):\n",
        "  data = data.shuffle(buffer_size, seed = seed).batch(batch)\n",
        "  return data.prefetch(prefetch_buffer)\n",
        "\n",
        "dataset = preprocess(dataset)\n",
        "validation = preprocess(validation)"
      ],
      "execution_count": 0,
      "outputs": []
    },
    {
      "cell_type": "markdown",
      "metadata": {
        "id": "_FKL8yu2mTYB",
        "colab_type": "text"
      },
      "source": [
        "## Creating the Model"
      ]
    },
    {
      "cell_type": "markdown",
      "metadata": {
        "id": "C4_dl9gumVxn",
        "colab_type": "text"
      },
      "source": [
        "We simply use keras.models.Sequential to stack a series of Convolutional and Pooling layers, followed by a Dense output layer with softmax activation, allowing it to output the class probabilities for each of the classes."
      ]
    },
    {
      "cell_type": "code",
      "metadata": {
        "id": "Gasl-DDy0r7C",
        "colab_type": "code",
        "colab": {}
      },
      "source": [
        "cnn = keras.models.Sequential([\n",
        "  keras.layers.Conv2D(25, 8, 1, 'same', activation='relu', input_shape = (28,28,1)),\n",
        "  keras.layers.Conv2D(50, 4, 1, 'valid', activation='relu'),\n",
        "  keras.layers.MaxPool2D(2),\n",
        "  keras.layers.Conv2D(100, 2, 1, 'same', activation='relu'),\n",
        "  keras.layers.Conv2D(80, 1, 1, 'same', activation='relu'),\n",
        "  keras.layers.GlobalAveragePooling2D(),\n",
        "  keras.layers.Flatten(),\n",
        "  keras.layers.Dense(10, activation='softmax')                             \n",
        "])"
      ],
      "execution_count": 0,
      "outputs": []
    },
    {
      "cell_type": "markdown",
      "metadata": {
        "id": "mFriM1dDmycf",
        "colab_type": "text"
      },
      "source": [
        "We then compile and fit the model. "
      ]
    },
    {
      "cell_type": "code",
      "metadata": {
        "id": "XLOy7OnW2c2K",
        "colab_type": "code",
        "colab": {}
      },
      "source": [
        "cnn.compile(optimizer=keras.optimizers.Adam(),\n",
        "            loss='sparse_categorical_crossentropy',\n",
        "            metrics='accuracy')"
      ],
      "execution_count": 0,
      "outputs": []
    },
    {
      "cell_type": "code",
      "metadata": {
        "id": "x83F1odz2owu",
        "colab_type": "code",
        "outputId": "e90e611e-1fe2-4eb8-a4b2-8454ead59696",
        "colab": {
          "base_uri": "https://localhost:8080/",
          "height": 527
        }
      },
      "source": [
        "cnn_hist = cnn.fit(dataset,\n",
        "                   epochs=15,\n",
        "                   callbacks=keras.callbacks.ModelCheckpoint('best.h5',monitor='val_accuracy',save_best_only=True),\n",
        "                   validation_data = validation)"
      ],
      "execution_count": 0,
      "outputs": [
        {
          "output_type": "stream",
          "text": [
            "Epoch 1/15\n",
            "540/540 [==============================] - 209s 386ms/step - loss: 1.0094 - accuracy: 0.6284 - val_loss: 0.7688 - val_accuracy: 0.7315\n",
            "Epoch 2/15\n",
            "540/540 [==============================] - 210s 389ms/step - loss: 0.6922 - accuracy: 0.7524 - val_loss: 0.6894 - val_accuracy: 0.7363\n",
            "Epoch 3/15\n",
            "540/540 [==============================] - 210s 389ms/step - loss: 0.6137 - accuracy: 0.7790 - val_loss: 0.5777 - val_accuracy: 0.7987\n",
            "Epoch 4/15\n",
            "540/540 [==============================] - 209s 388ms/step - loss: 0.5598 - accuracy: 0.8015 - val_loss: 0.5301 - val_accuracy: 0.8178\n",
            "Epoch 5/15\n",
            "540/540 [==============================] - 209s 387ms/step - loss: 0.5075 - accuracy: 0.8188 - val_loss: 0.4927 - val_accuracy: 0.8257\n",
            "Epoch 6/15\n",
            "540/540 [==============================] - 209s 387ms/step - loss: 0.4767 - accuracy: 0.8295 - val_loss: 0.4541 - val_accuracy: 0.8310\n",
            "Epoch 7/15\n",
            "540/540 [==============================] - 209s 388ms/step - loss: 0.4481 - accuracy: 0.8395 - val_loss: 0.4609 - val_accuracy: 0.8338\n",
            "Epoch 8/15\n",
            "540/540 [==============================] - 210s 389ms/step - loss: 0.4248 - accuracy: 0.8497 - val_loss: 0.4376 - val_accuracy: 0.8373\n",
            "Epoch 9/15\n",
            "540/540 [==============================] - 209s 387ms/step - loss: 0.4043 - accuracy: 0.8566 - val_loss: 0.4189 - val_accuracy: 0.8442\n",
            "Epoch 10/15\n",
            "540/540 [==============================] - 209s 388ms/step - loss: 0.3921 - accuracy: 0.8604 - val_loss: 0.3987 - val_accuracy: 0.8537\n",
            "Epoch 11/15\n",
            "540/540 [==============================] - 210s 388ms/step - loss: 0.3728 - accuracy: 0.8665 - val_loss: 0.4008 - val_accuracy: 0.8545\n",
            "Epoch 12/15\n",
            "540/540 [==============================] - 210s 390ms/step - loss: 0.3671 - accuracy: 0.8695 - val_loss: 0.3724 - val_accuracy: 0.8650\n",
            "Epoch 13/15\n",
            "540/540 [==============================] - 210s 388ms/step - loss: 0.3529 - accuracy: 0.8750 - val_loss: 0.3628 - val_accuracy: 0.8687\n",
            "Epoch 14/15\n",
            "540/540 [==============================] - 210s 389ms/step - loss: 0.3429 - accuracy: 0.8787 - val_loss: 0.3515 - val_accuracy: 0.8728\n",
            "Epoch 15/15\n",
            "540/540 [==============================] - 209s 387ms/step - loss: 0.3339 - accuracy: 0.8814 - val_loss: 0.3328 - val_accuracy: 0.8815\n"
          ],
          "name": "stdout"
        }
      ]
    },
    {
      "cell_type": "markdown",
      "metadata": {
        "id": "g3Q2bSUwnEPp",
        "colab_type": "text"
      },
      "source": [
        "The plot below shows the training and validation losses and accuracy. From this, we can see that both the training and validation losses and accuracies follow the same trend, which means that we are not overfitting too much."
      ]
    },
    {
      "cell_type": "code",
      "metadata": {
        "id": "rFAn7UDZ6DBj",
        "colab_type": "code",
        "outputId": "e698b623-5777-4364-f848-bd90b46cd863",
        "colab": {
          "base_uri": "https://localhost:8080/",
          "height": 282
        }
      },
      "source": [
        "plt.figure(figsize=(12,8))\n",
        "pd.DataFrame(cnn_hist.history).plot()\n",
        "plt.show()"
      ],
      "execution_count": 0,
      "outputs": [
        {
          "output_type": "display_data",
          "data": {
            "text/plain": [
              "<Figure size 864x576 with 0 Axes>"
            ]
          },
          "metadata": {
            "tags": []
          }
        },
        {
          "output_type": "display_data",
          "data": {
            "image/png": "[encoded data removed]",
            "text/plain": [
              "<Figure size 432x288 with 1 Axes>"
            ]
          },
          "metadata": {
            "tags": [],
            "needs_background": "light"
          }
        }
      ]
    },
    {
      "cell_type": "markdown",
      "metadata": {
        "id": "OONIw_FqniWL",
        "colab_type": "text"
      },
      "source": [
        "NOTE: The hyperparameters that I chose for the model are quite arbitrary. The results will perhaps be improved if we do some hyperparameter tuning. Additionally, it seems that our model is still improving, so we can also consider training it for a few more epochs. For the time being, we will not perform these steps due to some concerns in computational resources. "
      ]
    },
    {
      "cell_type": "markdown",
      "metadata": {
        "id": "q_nmmodYoQnS",
        "colab_type": "text"
      },
      "source": [
        "## Using the Model"
      ]
    },
    {
      "cell_type": "markdown",
      "metadata": {
        "id": "bw0nBZyvoUp_",
        "colab_type": "text"
      },
      "source": [
        "We first create a simple function that will allow us to display an image from the test set as well as its actual label and our model's prediction. We also add the option of choosing the color map to be used. "
      ]
    },
    {
      "cell_type": "code",
      "metadata": {
        "id": "gwgaQSc53Akz",
        "colab_type": "code",
        "colab": {}
      },
      "source": [
        "def display_image(item_num,show_pred=True,cmap='binary'):  \n",
        "  pixels = test_images[item_num].reshape(28,28)\n",
        "  labels = test_labels[item_num]\n",
        "  pred = np.argmax(cnn.predict(test_images[item_num].reshape(1,28,28,1)))\n",
        "  plt.figure(figsize=(8,5))\n",
        "  plt.imshow(pixels, cmap=cmap)\n",
        "  plt.grid(False)\n",
        "  plt.axis(False)\n",
        "  if show_pred:\n",
        "    plt.title('Actual: ' + class_names[labels] + ', ' + 'Predicted: ' + class_names[pred])\n",
        "  else:\n",
        "    plt.title(class_names[labels])\n",
        "  plt.show() "
      ],
      "execution_count": 0,
      "outputs": []
    },
    {
      "cell_type": "markdown",
      "metadata": {
        "id": "9WZDkBm3pObM",
        "colab_type": "text"
      },
      "source": [
        "We can now use the function to display images from the test set. From the second example below, we can see that our model actually outputs a wrong prediction for the given image."
      ]
    },
    {
      "cell_type": "code",
      "metadata": {
        "id": "R2IHnL2vKhKi",
        "colab_type": "code",
        "outputId": "b85fba44-8e4d-4a83-f9c5-35952c210ab0",
        "colab": {
          "base_uri": "https://localhost:8080/",
          "height": 319
        }
      },
      "source": [
        "display_image(900,cmap='winter')"
      ],
      "execution_count": 0,
      "outputs": [
        {
          "output_type": "display_data",
          "data": {
            "image/png": "[encoded data removed]",
            "text/plain": [
              "<Figure size 576x360 with 1 Axes>"
            ]
          },
          "metadata": {
            "tags": [],
            "needs_background": "light"
          }
        }
      ]
    },
    {
      "cell_type": "code",
      "metadata": {
        "id": "DSEg47NHLMnT",
        "colab_type": "code",
        "outputId": "bac5ae08-0e5a-4779-8c59-855dd08a0901",
        "colab": {
          "base_uri": "https://localhost:8080/",
          "height": 319
        }
      },
      "source": [
        "display_image(500,cmap='viridis')"
      ],
      "execution_count": 0,
      "outputs": [
        {
          "output_type": "display_data",
          "data": {
            "image/png": "[encoded data removed]",
            "text/plain": [
              "<Figure size 576x360 with 1 Axes>"
            ]
          },
          "metadata": {
            "tags": [],
            "needs_background": "light"
          }
        }
      ]
    },
    {
      "cell_type": "code",
      "metadata": {
        "id": "XIgTLRO2LtHw",
        "colab_type": "code",
        "outputId": "38329025-e649-45ec-c703-da5cfd416945",
        "colab": {
          "base_uri": "https://localhost:8080/",
          "height": 319
        }
      },
      "source": [
        "display_image(3453,cmap='plasma')"
      ],
      "execution_count": 0,
      "outputs": [
        {
          "output_type": "display_data",
          "data": {
            "image/png": "[encoded data removed]",
            "text/plain": [
              "<Figure size 576x360 with 1 Axes>"
            ]
          },
          "metadata": {
            "tags": [],
            "needs_background": "light"
          }
        }
      ]
    },
    {
      "cell_type": "code",
      "metadata": {
        "id": "1YkWZplhMCVA",
        "colab_type": "code",
        "outputId": "3bad27e5-4353-44df-c87f-74cd84c85b5e",
        "colab": {
          "base_uri": "https://localhost:8080/",
          "height": 319
        }
      },
      "source": [
        "display_image(1346,cmap='inferno')"
      ],
      "execution_count": 0,
      "outputs": [
        {
          "output_type": "display_data",
          "data": {
            "image/png": "[encoded data removed]",
            "text/plain": [
              "<Figure size 576x360 with 1 Axes>"
            ]
          },
          "metadata": {
            "tags": [],
            "needs_background": "light"
          }
        }
      ]
    },
    {
      "cell_type": "code",
      "metadata": {
        "id": "1ZNyJk-oNIKj",
        "colab_type": "code",
        "outputId": "3d2ab1dc-b45d-4f97-a7d2-3366d3abd29f",
        "colab": {
          "base_uri": "https://localhost:8080/",
          "height": 319
        }
      },
      "source": [
        "display_image(100,cmap='Spectral')"
      ],
      "execution_count": 0,
      "outputs": [
        {
          "output_type": "display_data",
          "data": {
            "image/png": "[encoded data removed]",
            "text/plain": [
              "<Figure size 576x360 with 1 Axes>"
            ]
          },
          "metadata": {
            "tags": [],
            "needs_background": "light"
          }
        }
      ]
    },
    {
      "cell_type": "markdown",
      "metadata": {
        "id": "4y1RjYgxpdj4",
        "colab_type": "text"
      },
      "source": [
        "Finally, we preprocess the test set in the same way we preprocessed the training and validation datasets. We then evaluated our model's performance in the test set. Even with just 15 epochs, we were able to get an accuracy of about 88.17%! Like what I've mentioned above, hyperparameter tuning and more epochs would probably improve our model's performance."
      ]
    },
    {
      "cell_type": "code",
      "metadata": {
        "id": "Kfdc0tW1MJfR",
        "colab_type": "code",
        "colab": {}
      },
      "source": [
        "test_images = test_images.reshape(test_images.shape[0], test_images.shape[1], test_images.shape[2], 1)\n",
        "test = tf.data.Dataset.from_tensor_slices((test_images,test_labels))\n",
        "test = preprocess(test)"
      ],
      "execution_count": 0,
      "outputs": []
    },
    {
      "cell_type": "code",
      "metadata": {
        "id": "VpuDqdSnMVxA",
        "colab_type": "code",
        "outputId": "224da5dd-6ea7-4461-9e5b-d9157a4d0d8d",
        "colab": {
          "base_uri": "https://localhost:8080/",
          "height": 51
        }
      },
      "source": [
        "cnn.evaluate(test)"
      ],
      "execution_count": 0,
      "outputs": [
        {
          "output_type": "stream",
          "text": [
            "100/100 [==============================] - 11s 109ms/step - loss: 0.3419 - accuracy: 0.8817\n"
          ],
          "name": "stdout"
        },
        {
          "output_type": "execute_result",
          "data": {
            "text/plain": [
              "[0.34185150265693665, 0.8816999793052673]"
            ]
          },
          "metadata": {
            "tags": []
          },
          "execution_count": 17
        }
      ]
    },
    {
      "cell_type": "markdown",
      "metadata": {
        "id": "RirxUwEjqFKI",
        "colab_type": "text"
      },
      "source": [
        "## Conclusion"
      ]
    },
    {
      "cell_type": "markdown",
      "metadata": {
        "id": "obhPZbf-qAPi",
        "colab_type": "text"
      },
      "source": [
        "This Colab notebook is just a way for me to demonstrate my beginner-level skills in machine learning. Thank you so much for taking the time to read it. Bye!"
      ]
    }
  ]
}